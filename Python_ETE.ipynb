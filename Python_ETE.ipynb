{
 "cells": [
  {
   "cell_type": "markdown",
   "id": "373aa929",
   "metadata": {},
   "source": [
    "### About the data\n",
    "Below data is related to the amount of money spent on marketing by a company through different modes and the sales the company made during the same period."
   ]
  },
  {
   "cell_type": "markdown",
   "id": "b6af3527",
   "metadata": {},
   "source": [
    "### Type of Data\n",
    "TV:TV promotion budget (in million)-- Type of data= continuos data\n",
    "Social Media: Social Media promotion budget (in million)-- Type of data= continuos data\n",
    "Radio: Radio promotion budget (in million)-- Type of data= continuos data\n",
    "Influencer: Whether the promotion collaborate with Mega, Macro, Nano, Micro influencer-- Categorical\n",
    "Sales (in million)-- Type of data= continuos data"
   ]
  },
  {
   "cell_type": "markdown",
   "id": "217aa577",
   "metadata": {},
   "source": [
    "### Problem Statement\n",
    "To explore the data and \n",
    "To understand the impact of money spent on advertising through different channels on sales."
   ]
  },
  {
   "cell_type": "markdown",
   "id": "e4296621",
   "metadata": {},
   "source": [
    "### 3 objectives to solve the underlying business problem.\n",
    "\n",
    "1)To have a better understanding of the data.\n",
    "\n",
    "2)To understand the correlation between mode of advertisement and sales\n",
    "\n",
    "3)To understand how Sales varies with the mode of advertisement and the related values."
   ]
  },
  {
   "cell_type": "code",
   "execution_count": 64,
   "id": "4df2cdc9",
   "metadata": {},
   "outputs": [],
   "source": [
    "import pandas as pd\n",
    "import numpy as np\n",
    "import matplotlib as mpl\n",
    "import matplotlib.pyplot as plt\n",
    "import seaborn as sb\n",
    "#Importing the libraries required"
   ]
  },
  {
   "cell_type": "code",
   "execution_count": 7,
   "id": "d5f2376a",
   "metadata": {},
   "outputs": [
    {
     "data": {
      "text/html": [
       "<div>\n",
       "<style scoped>\n",
       "    .dataframe tbody tr th:only-of-type {\n",
       "        vertical-align: middle;\n",
       "    }\n",
       "\n",
       "    .dataframe tbody tr th {\n",
       "        vertical-align: top;\n",
       "    }\n",
       "\n",
       "    .dataframe thead th {\n",
       "        text-align: right;\n",
       "    }\n",
       "</style>\n",
       "<table border=\"1\" class=\"dataframe\">\n",
       "  <thead>\n",
       "    <tr style=\"text-align: right;\">\n",
       "      <th></th>\n",
       "      <th>TV</th>\n",
       "      <th>Radio</th>\n",
       "      <th>Social Media</th>\n",
       "      <th>Influencer</th>\n",
       "      <th>Sales</th>\n",
       "    </tr>\n",
       "  </thead>\n",
       "  <tbody>\n",
       "    <tr>\n",
       "      <th>0</th>\n",
       "      <td>16.0</td>\n",
       "      <td>6.566231</td>\n",
       "      <td>2.907983</td>\n",
       "      <td>Mega</td>\n",
       "      <td>54.732757</td>\n",
       "    </tr>\n",
       "    <tr>\n",
       "      <th>1</th>\n",
       "      <td>13.0</td>\n",
       "      <td>9.237765</td>\n",
       "      <td>2.409567</td>\n",
       "      <td>Mega</td>\n",
       "      <td>46.677897</td>\n",
       "    </tr>\n",
       "    <tr>\n",
       "      <th>2</th>\n",
       "      <td>41.0</td>\n",
       "      <td>15.886446</td>\n",
       "      <td>2.913410</td>\n",
       "      <td>Mega</td>\n",
       "      <td>150.177829</td>\n",
       "    </tr>\n",
       "    <tr>\n",
       "      <th>3</th>\n",
       "      <td>83.0</td>\n",
       "      <td>30.020028</td>\n",
       "      <td>6.922304</td>\n",
       "      <td>Mega</td>\n",
       "      <td>298.246340</td>\n",
       "    </tr>\n",
       "    <tr>\n",
       "      <th>4</th>\n",
       "      <td>15.0</td>\n",
       "      <td>8.437408</td>\n",
       "      <td>1.405998</td>\n",
       "      <td>Micro</td>\n",
       "      <td>56.594181</td>\n",
       "    </tr>\n",
       "    <tr>\n",
       "      <th>5</th>\n",
       "      <td>29.0</td>\n",
       "      <td>9.614382</td>\n",
       "      <td>1.027163</td>\n",
       "      <td>Mega</td>\n",
       "      <td>105.889148</td>\n",
       "    </tr>\n",
       "    <tr>\n",
       "      <th>6</th>\n",
       "      <td>55.0</td>\n",
       "      <td>24.893811</td>\n",
       "      <td>4.273602</td>\n",
       "      <td>Micro</td>\n",
       "      <td>198.679825</td>\n",
       "    </tr>\n",
       "    <tr>\n",
       "      <th>7</th>\n",
       "      <td>31.0</td>\n",
       "      <td>17.355042</td>\n",
       "      <td>2.289855</td>\n",
       "      <td>Nano</td>\n",
       "      <td>108.733932</td>\n",
       "    </tr>\n",
       "    <tr>\n",
       "      <th>8</th>\n",
       "      <td>76.0</td>\n",
       "      <td>24.648898</td>\n",
       "      <td>7.130116</td>\n",
       "      <td>Macro</td>\n",
       "      <td>270.189400</td>\n",
       "    </tr>\n",
       "    <tr>\n",
       "      <th>9</th>\n",
       "      <td>13.0</td>\n",
       "      <td>0.431128</td>\n",
       "      <td>2.229423</td>\n",
       "      <td>Mega</td>\n",
       "      <td>48.280582</td>\n",
       "    </tr>\n",
       "  </tbody>\n",
       "</table>\n",
       "</div>"
      ],
      "text/plain": [
       "     TV      Radio  Social Media Influencer       Sales\n",
       "0  16.0   6.566231      2.907983       Mega   54.732757\n",
       "1  13.0   9.237765      2.409567       Mega   46.677897\n",
       "2  41.0  15.886446      2.913410       Mega  150.177829\n",
       "3  83.0  30.020028      6.922304       Mega  298.246340\n",
       "4  15.0   8.437408      1.405998      Micro   56.594181\n",
       "5  29.0   9.614382      1.027163       Mega  105.889148\n",
       "6  55.0  24.893811      4.273602      Micro  198.679825\n",
       "7  31.0  17.355042      2.289855       Nano  108.733932\n",
       "8  76.0  24.648898      7.130116      Macro  270.189400\n",
       "9  13.0   0.431128      2.229423       Mega   48.280582"
      ]
     },
     "execution_count": 7,
     "metadata": {},
     "output_type": "execute_result"
    }
   ],
   "source": [
    "#importing the dataset\n",
    "df= pd.read_csv('ETE_data.csv')\n",
    "df.head(10)\n"
   ]
  },
  {
   "cell_type": "code",
   "execution_count": 8,
   "id": "e152d46e",
   "metadata": {},
   "outputs": [
    {
     "data": {
      "text/plain": [
       "TV              10\n",
       "Radio            4\n",
       "Social Media     6\n",
       "Influencer       0\n",
       "Sales            6\n",
       "dtype: int64"
      ]
     },
     "execution_count": 8,
     "metadata": {},
     "output_type": "execute_result"
    }
   ],
   "source": [
    "#Checking for missing values\n",
    "df.isna().sum()\n",
    "\n",
    "#Conclusion: There are 10 missing values in the column Tv, 4 in Radio, 6 in social media and 6 in sales."
   ]
  },
  {
   "cell_type": "code",
   "execution_count": 11,
   "id": "a8338e3e",
   "metadata": {},
   "outputs": [],
   "source": [
    "Tv= df['TV']\n",
    "Rd= df['Radio']\n",
    "Sm= df['Social Media']\n",
    "Sl= df['Sales']"
   ]
  },
  {
   "cell_type": "code",
   "execution_count": null,
   "id": "7221a395",
   "metadata": {},
   "outputs": [],
   "source": []
  },
  {
   "cell_type": "code",
   "execution_count": 30,
   "id": "89bf02b0",
   "metadata": {},
   "outputs": [
    {
     "name": "stdout",
     "output_type": "stream",
     "text": [
      "53.0\n"
     ]
    },
    {
     "data": {
      "text/plain": [
       "TV              0\n",
       "Radio           4\n",
       "Social Media    6\n",
       "Influencer      0\n",
       "Sales           6\n",
       "dtype: int64"
      ]
     },
     "execution_count": 30,
     "metadata": {},
     "output_type": "execute_result"
    },
    {
     "data": {
      "image/png": "[encoded data removed]",
      "text/plain": [
       "<Figure size 432x288 with 1 Axes>"
      ]
     },
     "metadata": {
      "needs_background": "light"
     },
     "output_type": "display_data"
    }
   ],
   "source": [
    "#Imputing the missing data\n",
    "plt.hist(Tv)\n",
    "# Amount spent on TV ads is not normally distributed, hence the missing values need to be imputed with median\n",
    "med_Tv= Tv.median()\n",
    "print(med_Tv)\n",
    "df['TV'].fillna(med_Tv,inplace=True)\n",
    "df.isna().sum()"
   ]
  },
  {
   "cell_type": "code",
   "execution_count": 32,
   "id": "9c2689e8",
   "metadata": {},
   "outputs": [
    {
     "name": "stdout",
     "output_type": "stream",
     "text": [
      "17.85951293\n"
     ]
    },
    {
     "data": {
      "text/plain": [
       "TV              0\n",
       "Radio           0\n",
       "Social Media    6\n",
       "Influencer      0\n",
       "Sales           6\n",
       "dtype: int64"
      ]
     },
     "execution_count": 32,
     "metadata": {},
     "output_type": "execute_result"
    },
    {
     "data": {
      "image/png": "[encoded data removed]",
      "text/plain": [
       "<Figure size 432x288 with 1 Axes>"
      ]
     },
     "metadata": {
      "needs_background": "light"
     },
     "output_type": "display_data"
    }
   ],
   "source": [
    "plt.hist(Rd)\n",
    "## Amount spent on Radio ads is not normally distributed, hence the missing values need to be imputed with median\n",
    "med_Rd= Rd.median()\n",
    "print(med_Rd)\n",
    "df['Radio'].fillna(med_Rd,inplace=True)\n",
    "df.isna().sum()"
   ]
  },
  {
   "cell_type": "code",
   "execution_count": 33,
   "id": "5a12be86",
   "metadata": {},
   "outputs": [
    {
     "name": "stdout",
     "output_type": "stream",
     "text": [
      "3.055565435\n"
     ]
    },
    {
     "data": {
      "text/plain": [
       "TV              0\n",
       "Radio           0\n",
       "Social Media    0\n",
       "Influencer      0\n",
       "Sales           6\n",
       "dtype: int64"
      ]
     },
     "execution_count": 33,
     "metadata": {},
     "output_type": "execute_result"
    },
    {
     "data": {
      "image/png": "[encoded data removed]",
      "text/plain": [
       "<Figure size 432x288 with 1 Axes>"
      ]
     },
     "metadata": {
      "needs_background": "light"
     },
     "output_type": "display_data"
    }
   ],
   "source": [
    "plt.hist(Sm)\n",
    "## Amount spent on Social Media ads is not normally distributed, hence the missing values need to be imputed with median\n",
    "med_sm= Sm.median()\n",
    "print(med_sm)\n",
    "df['Social Media'].fillna(med_sm,inplace=True)\n",
    "df.isna().sum()\n"
   ]
  },
  {
   "cell_type": "code",
   "execution_count": 34,
   "id": "48267059",
   "metadata": {},
   "outputs": [
    {
     "name": "stdout",
     "output_type": "stream",
     "text": [
      "189.23117235\n"
     ]
    },
    {
     "data": {
      "text/plain": [
       "TV              0\n",
       "Radio           0\n",
       "Social Media    0\n",
       "Influencer      0\n",
       "Sales           0\n",
       "dtype: int64"
      ]
     },
     "execution_count": 34,
     "metadata": {},
     "output_type": "execute_result"
    },
    {
     "data": {
      "image/png": "[encoded data removed]",
      "text/plain": [
       "<Figure size 432x288 with 1 Axes>"
      ]
     },
     "metadata": {
      "needs_background": "light"
     },
     "output_type": "display_data"
    }
   ],
   "source": [
    "plt.hist(Sl)\n",
    "## Net Sales Amount is not normally distributed, hence the missing values need to be imputed with median\n",
    "med_Sl= Sl.median()\n",
    "print(med_Sl)\n",
    "df['Sales'].fillna(med_Sl,inplace=True)\n",
    "df.isna().sum()"
   ]
  },
  {
   "cell_type": "code",
   "execution_count": 45,
   "id": "04cfdde8",
   "metadata": {},
   "outputs": [
    {
     "name": "stderr",
     "output_type": "stream",
     "text": [
      "C:\\Users\\91767\\AppData\\Local\\Temp/ipykernel_21028/240977105.py:3: SettingWithCopyWarning: \n",
      "A value is trying to be set on a copy of a slice from a DataFrame\n",
      "\n",
      "See the caveats in the documentation: https://pandas.pydata.org/pandas-docs/stable/user_guide/indexing.html#returning-a-view-versus-a-copy\n",
      "  df.Influencer[df.Influencer==\"Mega\"]=1\n",
      "C:\\Users\\91767\\AppData\\Local\\Temp/ipykernel_21028/240977105.py:4: SettingWithCopyWarning: \n",
      "A value is trying to be set on a copy of a slice from a DataFrame\n",
      "\n",
      "See the caveats in the documentation: https://pandas.pydata.org/pandas-docs/stable/user_guide/indexing.html#returning-a-view-versus-a-copy\n",
      "  df.Influencer[df.Influencer==\"Micro\"]=2\n",
      "C:\\Users\\91767\\AppData\\Local\\Temp/ipykernel_21028/240977105.py:5: SettingWithCopyWarning: \n",
      "A value is trying to be set on a copy of a slice from a DataFrame\n",
      "\n",
      "See the caveats in the documentation: https://pandas.pydata.org/pandas-docs/stable/user_guide/indexing.html#returning-a-view-versus-a-copy\n",
      "  df.Influencer[df.Influencer==\"Nano\"]=3\n",
      "C:\\Users\\91767\\AppData\\Local\\Temp/ipykernel_21028/240977105.py:6: SettingWithCopyWarning: \n",
      "A value is trying to be set on a copy of a slice from a DataFrame\n",
      "\n",
      "See the caveats in the documentation: https://pandas.pydata.org/pandas-docs/stable/user_guide/indexing.html#returning-a-view-versus-a-copy\n",
      "  df.Influencer[df.Influencer==\"Macro\"]=4\n"
     ]
    },
    {
     "data": {
      "text/html": [
       "<div>\n",
       "<style scoped>\n",
       "    .dataframe tbody tr th:only-of-type {\n",
       "        vertical-align: middle;\n",
       "    }\n",
       "\n",
       "    .dataframe tbody tr th {\n",
       "        vertical-align: top;\n",
       "    }\n",
       "\n",
       "    .dataframe thead th {\n",
       "        text-align: right;\n",
       "    }\n",
       "</style>\n",
       "<table border=\"1\" class=\"dataframe\">\n",
       "  <thead>\n",
       "    <tr style=\"text-align: right;\">\n",
       "      <th></th>\n",
       "      <th>TV</th>\n",
       "      <th>Radio</th>\n",
       "      <th>Social Media</th>\n",
       "      <th>Influencer</th>\n",
       "      <th>Sales</th>\n",
       "    </tr>\n",
       "  </thead>\n",
       "  <tbody>\n",
       "    <tr>\n",
       "      <th>0</th>\n",
       "      <td>16.0</td>\n",
       "      <td>6.566231</td>\n",
       "      <td>2.907983</td>\n",
       "      <td>1</td>\n",
       "      <td>54.732757</td>\n",
       "    </tr>\n",
       "    <tr>\n",
       "      <th>1</th>\n",
       "      <td>13.0</td>\n",
       "      <td>9.237765</td>\n",
       "      <td>2.409567</td>\n",
       "      <td>1</td>\n",
       "      <td>46.677897</td>\n",
       "    </tr>\n",
       "    <tr>\n",
       "      <th>2</th>\n",
       "      <td>41.0</td>\n",
       "      <td>15.886446</td>\n",
       "      <td>2.913410</td>\n",
       "      <td>1</td>\n",
       "      <td>150.177829</td>\n",
       "    </tr>\n",
       "    <tr>\n",
       "      <th>3</th>\n",
       "      <td>83.0</td>\n",
       "      <td>30.020028</td>\n",
       "      <td>6.922304</td>\n",
       "      <td>1</td>\n",
       "      <td>298.246340</td>\n",
       "    </tr>\n",
       "    <tr>\n",
       "      <th>4</th>\n",
       "      <td>15.0</td>\n",
       "      <td>8.437408</td>\n",
       "      <td>1.405998</td>\n",
       "      <td>2</td>\n",
       "      <td>56.594181</td>\n",
       "    </tr>\n",
       "    <tr>\n",
       "      <th>...</th>\n",
       "      <td>...</td>\n",
       "      <td>...</td>\n",
       "      <td>...</td>\n",
       "      <td>...</td>\n",
       "      <td>...</td>\n",
       "    </tr>\n",
       "    <tr>\n",
       "      <th>4567</th>\n",
       "      <td>26.0</td>\n",
       "      <td>4.472360</td>\n",
       "      <td>0.717090</td>\n",
       "      <td>2</td>\n",
       "      <td>94.685866</td>\n",
       "    </tr>\n",
       "    <tr>\n",
       "      <th>4568</th>\n",
       "      <td>71.0</td>\n",
       "      <td>20.610685</td>\n",
       "      <td>6.545573</td>\n",
       "      <td>3</td>\n",
       "      <td>249.101915</td>\n",
       "    </tr>\n",
       "    <tr>\n",
       "      <th>4569</th>\n",
       "      <td>44.0</td>\n",
       "      <td>19.800072</td>\n",
       "      <td>5.096192</td>\n",
       "      <td>2</td>\n",
       "      <td>163.631457</td>\n",
       "    </tr>\n",
       "    <tr>\n",
       "      <th>4570</th>\n",
       "      <td>71.0</td>\n",
       "      <td>17.534640</td>\n",
       "      <td>1.940873</td>\n",
       "      <td>4</td>\n",
       "      <td>253.610411</td>\n",
       "    </tr>\n",
       "    <tr>\n",
       "      <th>4571</th>\n",
       "      <td>42.0</td>\n",
       "      <td>15.966688</td>\n",
       "      <td>5.046548</td>\n",
       "      <td>2</td>\n",
       "      <td>148.202414</td>\n",
       "    </tr>\n",
       "  </tbody>\n",
       "</table>\n",
       "<p>4572 rows × 5 columns</p>\n",
       "</div>"
      ],
      "text/plain": [
       "        TV      Radio  Social Media Influencer       Sales\n",
       "0     16.0   6.566231      2.907983          1   54.732757\n",
       "1     13.0   9.237765      2.409567          1   46.677897\n",
       "2     41.0  15.886446      2.913410          1  150.177829\n",
       "3     83.0  30.020028      6.922304          1  298.246340\n",
       "4     15.0   8.437408      1.405998          2   56.594181\n",
       "...    ...        ...           ...        ...         ...\n",
       "4567  26.0   4.472360      0.717090          2   94.685866\n",
       "4568  71.0  20.610685      6.545573          3  249.101915\n",
       "4569  44.0  19.800072      5.096192          2  163.631457\n",
       "4570  71.0  17.534640      1.940873          4  253.610411\n",
       "4571  42.0  15.966688      5.046548          2  148.202414\n",
       "\n",
       "[4572 rows x 5 columns]"
      ]
     },
     "execution_count": 45,
     "metadata": {},
     "output_type": "execute_result"
    }
   ],
   "source": [
    "df\n",
    "#Replacing the Influencer field with numbers(Categorical Variable)(for Mega it is 1, for Micro it is 2,for Nano it is 3 and for macro it \n",
    "#is 4)\n",
    "df.Influencer[df.Influencer==\"Mega\"]=1\n",
    "df.Influencer[df.Influencer==\"Micro\"]=2\n",
    "df.Influencer[df.Influencer==\"Nano\"]=3\n",
    "df.Influencer[df.Influencer==\"Macro\"]=4\n",
    "df"
   ]
  },
  {
   "cell_type": "markdown",
   "id": "52bf3696",
   "metadata": {},
   "source": [
    "### Now that the data is clean and there are no missing values ETA can be started"
   ]
  },
  {
   "cell_type": "markdown",
   "id": "298e861f",
   "metadata": {},
   "source": [
    "#### Structure of Data"
   ]
  },
  {
   "cell_type": "code",
   "execution_count": 47,
   "id": "0bc3f184",
   "metadata": {},
   "outputs": [
    {
     "data": {
      "text/plain": [
       "TV              float64\n",
       "Radio           float64\n",
       "Social Media    float64\n",
       "Influencer       object\n",
       "Sales           float64\n",
       "dtype: object"
      ]
     },
     "execution_count": 47,
     "metadata": {},
     "output_type": "execute_result"
    }
   ],
   "source": [
    "df.dtypes #Knowing the datatypes and ensuring that we have appropriate datatypes"
   ]
  },
  {
   "cell_type": "code",
   "execution_count": 48,
   "id": "001a0237",
   "metadata": {},
   "outputs": [
    {
     "data": {
      "text/plain": [
       "(4572, 5)"
      ]
     },
     "execution_count": 48,
     "metadata": {},
     "output_type": "execute_result"
    }
   ],
   "source": [
    "df.shape #Shape of the data: There are a total of 4572 rows and 5 columns in the dataset"
   ]
  },
  {
   "cell_type": "code",
   "execution_count": 69,
   "id": "edb20729",
   "metadata": {},
   "outputs": [],
   "source": [
    "df.columns #Column names in the dataset\n",
    "inf= df['Influencer']"
   ]
  },
  {
   "cell_type": "code",
   "execution_count": 108,
   "id": "b020f71b",
   "metadata": {},
   "outputs": [
    {
     "data": {
      "text/plain": [
       "Text(0.5, 1.0, 'Histogram- Amount of money spent on Tv Ads')"
      ]
     },
     "execution_count": 108,
     "metadata": {},
     "output_type": "execute_result"
    },
    {
     "data": {
      "image/png": "[encoded data removed]",
      "text/plain": [
       "<Figure size 432x288 with 1 Axes>"
      ]
     },
     "metadata": {
      "needs_background": "light"
     },
     "output_type": "display_data"
    }
   ],
   "source": [
    "#plotting Histograms\n",
    "plt.hist(Tv)\n",
    "plt.xlabel('Amount Spent in million $ on Tv Ads')\n",
    "plt.ylabel('Frequency')\n",
    "plt.title(\"Histogram- Amount of money spent on Tv Ads\")\n",
    "\n",
    "\n",
    "\n",
    "\n",
    "# Amount spent on TV ads is not normally distributed"
   ]
  },
  {
   "cell_type": "code",
   "execution_count": 106,
   "id": "8c6ddb93",
   "metadata": {},
   "outputs": [
    {
     "data": {
      "text/plain": [
       "Text(0.5, 1.0, 'Histogram- Sales')"
      ]
     },
     "execution_count": 106,
     "metadata": {},
     "output_type": "execute_result"
    },
    {
     "data": {
      "image/png": "[encoded data removed]",
      "text/plain": [
       "<Figure size 432x288 with 1 Axes>"
      ]
     },
     "metadata": {
      "needs_background": "light"
     },
     "output_type": "display_data"
    }
   ],
   "source": [
    "plt.hist(Sl)\n",
    "plt.xlabel('Total Sales in million$')\n",
    "plt.ylabel('Frequency')\n",
    "plt.title(\"Histogram- Sales\")\n",
    "\n",
    "\n",
    "## Net Sales Amount is not normally distributed"
   ]
  },
  {
   "cell_type": "code",
   "execution_count": 107,
   "id": "b99f0a2f",
   "metadata": {},
   "outputs": [
    {
     "data": {
      "text/plain": [
       "Text(0.5, 1.0, 'Histogram- Amount of money spent on Social Media Ads')"
      ]
     },
     "execution_count": 107,
     "metadata": {},
     "output_type": "execute_result"
    },
    {
     "data": {
      "image/png": "[encoded data removed]",
      "text/plain": [
       "<Figure size 432x288 with 1 Axes>"
      ]
     },
     "metadata": {
      "needs_background": "light"
     },
     "output_type": "display_data"
    }
   ],
   "source": [
    "plt.hist(Sm)\n",
    "plt.xlabel('Amount Spent in million $ on Social Media Ads')\n",
    "plt.ylabel('Frequency')\n",
    "plt.title(\"Histogram- Amount of money spent on Social Media Ads\")\n",
    "## Amount spent on Social Media ads is not normally distributed."
   ]
  },
  {
   "cell_type": "code",
   "execution_count": 105,
   "id": "ebfa1226",
   "metadata": {},
   "outputs": [
    {
     "data": {
      "text/plain": [
       "Text(0.5, 1.0, 'Histogram- Amount of money spent on Radio Ad')"
      ]
     },
     "execution_count": 105,
     "metadata": {},
     "output_type": "execute_result"
    },
    {
     "data": {
      "image/png": "[encoded data removed]",
      "text/plain": [
       "<Figure size 432x288 with 1 Axes>"
      ]
     },
     "metadata": {
      "needs_background": "light"
     },
     "output_type": "display_data"
    }
   ],
   "source": [
    "plt.hist(Rd)\n",
    "plt.xlabel('Amount Spent in million $ on Radio Ads')\n",
    "plt.ylabel('Frequency')\n",
    "plt.title(\"Histogram- Amount of money spent on Radio Ad\")\n",
    "\n",
    "## Amount spent on Radio ads is not normally distributed, hence the missing values need to be imputed with median\n"
   ]
  },
  {
   "cell_type": "markdown",
   "id": "feeede85",
   "metadata": {},
   "source": [
    "### Correlation Plot"
   ]
  },
  {
   "cell_type": "code",
   "execution_count": 114,
   "id": "d06eb357",
   "metadata": {},
   "outputs": [
    {
     "data": {
      "text/plain": [
       "Text(0.5, 1.0, 'Correlation Plot')"
      ]
     },
     "execution_count": 114,
     "metadata": {},
     "output_type": "execute_result"
    },
    {
     "data": {
      "image/png": "[encoded data removed]",
      "text/plain": [
       "<Figure size 432x288 with 2 Axes>"
      ]
     },
     "metadata": {
      "needs_background": "light"
     },
     "output_type": "display_data"
    }
   ],
   "source": [
    "#Correlation between different variables\n",
    "sb.heatmap(df.corr(),annot=True)\n",
    "plt.title(\"Correlation Plot\")\n",
    "\n",
    "#Interpretations: There is strong positive correlation between Sales \n",
    "#and the amount spent on ads on Tv and Radio, medium correlation between Sales and amount spent on ads on Social Media\n"
   ]
  },
  {
   "cell_type": "code",
   "execution_count": 113,
   "id": "e3c0dc48",
   "metadata": {},
   "outputs": [
    {
     "data": {
      "text/plain": [
       "Text(0.5, 1.0, 'Share of each type of influencer in the dataset')"
      ]
     },
     "execution_count": 113,
     "metadata": {},
     "output_type": "execute_result"
    },
    {
     "data": {
      "image/png": "[encoded data removed]",
      "text/plain": [
       "<Figure size 432x288 with 1 Axes>"
      ]
     },
     "metadata": {},
     "output_type": "display_data"
    }
   ],
   "source": [
    "#To know the number of different types of influencers used\n",
    "inf.value_counts().plot(kind='pie')\n",
    "plt.title(\"Share of each type of influencer in the dataset\")\n",
    "\n",
    "#Conclusion: Number of influencers are equally split at 25% each"
   ]
  },
  {
   "cell_type": "markdown",
   "id": "d209cf99",
   "metadata": {},
   "source": [
    "### Scatter plots\n"
   ]
  },
  {
   "cell_type": "code",
   "execution_count": 110,
   "id": "ae75d0b1",
   "metadata": {},
   "outputs": [
    {
     "data": {
      "text/plain": [
       "Text(0.5, 1.0, 'Scatter Plot- Amount of money spent on TV Ads v Sales')"
      ]
     },
     "execution_count": 110,
     "metadata": {},
     "output_type": "execute_result"
    },
    {
     "data": {
      "image/png": "[encoded data removed]",
      "text/plain": [
       "<Figure size 432x288 with 1 Axes>"
      ]
     },
     "metadata": {
      "needs_background": "light"
     },
     "output_type": "display_data"
    }
   ],
   "source": [
    "plt.scatter(Tv,Sl)\n",
    "plt.xlabel('Money spent on TV ads in million $')\n",
    "plt.ylabel('Total Sales in million $')\n",
    "plt.title(\"Scatter Plot- Amount of money spent on TV Ads v Sales\")\n",
    "\n",
    "#Interpretation: As we can see the Sales vary in a linear fashion with the money spent on TV"
   ]
  },
  {
   "cell_type": "code",
   "execution_count": 109,
   "id": "6a0c4eda",
   "metadata": {},
   "outputs": [
    {
     "data": {
      "text/plain": [
       "Text(0.5, 1.0, 'Scatter Plot- Amount of money spent on Radio Ads v Sales')"
      ]
     },
     "execution_count": 109,
     "metadata": {},
     "output_type": "execute_result"
    },
    {
     "data": {
      "image/png": "[encoded data removed]",
      "text/plain": [
       "<Figure size 432x288 with 1 Axes>"
      ]
     },
     "metadata": {
      "needs_background": "light"
     },
     "output_type": "display_data"
    }
   ],
   "source": [
    "#Scatter Plot (Radio ads v Sales)\n",
    "plt.scatter(Rd,Sl)\n",
    "plt.xlabel('Money spent on Radio ads in million $')\n",
    "plt.ylabel('Total Sales in million $')\n",
    "plt.title(\"Scatter Plot- Amount of money spent on Radio Ads v Sales\")\n",
    "\n",
    "#Interpretation: As we can see the Sales vary in a linear fashion with the money spent on TV but it is not as perfectly lineary related as TV ads"
   ]
  },
  {
   "cell_type": "code",
   "execution_count": 111,
   "id": "5c8a9bed",
   "metadata": {},
   "outputs": [
    {
     "data": {
      "text/plain": [
       "Text(0.5, 1.0, 'Scatter Plot- Amount of money spent on Social media Ads v Sales')"
      ]
     },
     "execution_count": 111,
     "metadata": {},
     "output_type": "execute_result"
    },
    {
     "data": {
      "image/png": "[encoded data removed]",
      "text/plain": [
       "<Figure size 432x288 with 1 Axes>"
      ]
     },
     "metadata": {
      "needs_background": "light"
     },
     "output_type": "display_data"
    }
   ],
   "source": [
    "#Scatter Plot (Social Media ads v Sales)\n",
    "plt.scatter(Sm,Sl)\n",
    "plt.xlabel('Money spent on Social Media ads in million $')\n",
    "plt.ylabel('Total Sales in million $')\n",
    "plt.title(\"Scatter Plot- Amount of money spent on Social media Ads v Sales\")\n",
    "\n",
    "#Interpretation: We can see that the company has spent very less on social media ads when compared to TV ads and Radio Ads. \n",
    "#Also there is medium correlation between money spent on social media and Total Sales"
   ]
  },
  {
   "cell_type": "code",
   "execution_count": 101,
   "id": "f4d2f4e6",
   "metadata": {},
   "outputs": [],
   "source": [
    "#Calculating the average amount spent on each influencer\n",
    "mega=df[df['Influencer']==1]\n",
    "micro= df[df['Influencer']==2]\n",
    "nano= df[df['Influencer']==3]\n",
    "macro= df[df['Influencer']==4]\n",
    "\n",
    "a=mega['Sales'].mean()\n",
    "b=micro['Sales'].mean()\n",
    "c=nano['Sales'].mean()\n",
    "d=macro['Sales'].mean()\n",
    "\n",
    "data= [[\"Mega\",a],[\"Micro\",b],[\"Nano\",c],[\"Macro\",d]]\n",
    "df1 = pd.DataFrame(data, columns = ['Type of Influencer', 'Average Sales'])\n",
    "df1\n",
    "col1= df1['Type of Influencer']\n",
    "col2= df1['Average Sales']"
   ]
  },
  {
   "cell_type": "code",
   "execution_count": 112,
   "id": "34c16545",
   "metadata": {},
   "outputs": [
    {
     "data": {
      "text/plain": [
       "Text(0.5, 1.0, 'Type of influencerwise Sales')"
      ]
     },
     "execution_count": 112,
     "metadata": {},
     "output_type": "execute_result"
    },
    {
     "data": {
      "image/png": "[encoded data removed]",
      "text/plain": [
       "<Figure size 432x288 with 1 Axes>"
      ]
     },
     "metadata": {
      "needs_background": "light"
     },
     "output_type": "display_data"
    }
   ],
   "source": [
    "plt.bar(col1,col2)\n",
    "plt.xlabel(\"Type of influencer\")\n",
    "plt.ylabel(\"Average Sales in million $\")\n",
    "plt.title(\"Type of influencerwise Sales\")\n",
    "\n",
    "#Interpretation: Average Sales from each of the type of the influencers is almost same. Since the charges for mega influencers is high, it is hence advisable to spend more on micro and nano influencers\n"
   ]
  },
  {
   "cell_type": "markdown",
   "id": "31bb20a8",
   "metadata": {},
   "source": [
    "### Business Recommendations"
   ]
  },
  {
   "cell_type": "markdown",
   "id": "a8f3e67e",
   "metadata": {},
   "source": [
    "1.Average Sales from each of the type of the influencers is almost same. Since the charges for mega influencers is high, it is hence advisable to spend more on micro and nano influencers.\n",
    "2.TV ads bring much higher revenue when compared to other forms of media. Hence the amount spent and there is a clear correlation between amount spent on TV ads and Sales\n",
    "3.Different models of machine learning can be applied to predict future sales.\n"
   ]
  },
  {
   "cell_type": "markdown",
   "id": "30fd0945",
   "metadata": {},
   "source": [
    "### Conclusion\n",
    "\n",
    "The given sales and marketing data is analysed and hence some conclusions that can be drawn are\n",
    "1.The data is not normally distributed.\n",
    "2.There is a need for data of different attributes.For Example ; Regionwise data"
   ]
  }
 ],
 "metadata": {
  "kernelspec": {
   "display_name": "Python 3 (ipykernel)",
   "language": "python",
   "name": "python3"
  },
  "language_info": {
   "codemirror_mode": {
    "name": "ipython",
    "version": 3
   },
   "file_extension": ".py",
   "mimetype": "text/x-python",
   "name": "python",
   "nbconvert_exporter": "python",
   "pygments_lexer": "ipython3",
   "version": "3.9.7"
  }
 },
 "nbformat": 4,
 "nbformat_minor": 5
}
